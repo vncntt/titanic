{
 "cells": [
  {
   "cell_type": "code",
   "execution_count": 2,
   "id": "857e3d65",
   "metadata": {},
   "outputs": [],
   "source": [
    "import numpy as np\n",
    "import pandas as pd\n",
    "import csv\n",
    "import math"
   ]
  },
  {
   "cell_type": "code",
   "execution_count": 3,
   "id": "552378b4",
   "metadata": {},
   "outputs": [],
   "source": [
    "def sigmoid(x):\n",
    "  return 1 / (1 + np.exp(-x))"
   ]
  },
  {
   "cell_type": "code",
   "execution_count": 47,
   "id": "9527ea4a",
   "metadata": {},
   "outputs": [
    {
     "data": {
      "text/plain": [
       "array([[1, 0, 3, ..., 7.25, 0, 'S'],\n",
       "       [2, 1, 1, ..., 71.2833, 'C85', 'C'],\n",
       "       [3, 1, 3, ..., 7.925, 0, 'S'],\n",
       "       ...,\n",
       "       [889, 0, 3, ..., 23.45, 0, 'S'],\n",
       "       [890, 1, 1, ..., 30.0, 'C148', 'C'],\n",
       "       [891, 0, 3, ..., 7.75, 0, 'Q']], dtype=object)"
      ]
     },
     "execution_count": 47,
     "metadata": {},
     "output_type": "execute_result"
    }
   ],
   "source": [
    "#read in files from train.csv and turn it into a numpy array\n",
    "df = pd.read_csv('train.csv')\n",
    "df = df.fillna(0)\n",
    "df = df.to_numpy()\n",
    "df"
   ]
  },
  {
   "cell_type": "code",
   "execution_count": 48,
   "id": "8049f0f5",
   "metadata": {},
   "outputs": [],
   "source": [
    "#correct contains values 0,1 representing the ground truth to whether the person survived or not\n",
    "correct = df[:,1]\n",
    "for i in range(len(correct)):\n",
    "    if(correct[i]==0):\n",
    "        correct[i]=-1"
   ]
  },
  {
   "cell_type": "code",
   "execution_count": 49,
   "id": "85874322",
   "metadata": {},
   "outputs": [],
   "source": [
    "#deleting the column number, survival, name, ticket, cabin,  columns from array\n",
    "df = np.delete(df,0,1)\n",
    "df = np.delete(df,0,1)\n",
    "df = np.delete(df,1,1)\n",
    "df = np.delete(df,5,1)\n",
    "df = np.delete(df,6,1)"
   ]
  },
  {
   "cell_type": "code",
   "execution_count": 7,
   "id": "cbd2371e",
   "metadata": {},
   "outputs": [
    {
     "data": {
      "text/plain": [
       "array([1, 'female', 38.0, 1, 0, 71.2833, 'C'], dtype=object)"
      ]
     },
     "execution_count": 7,
     "metadata": {},
     "output_type": "execute_result"
    }
   ],
   "source": [
    "df[1]"
   ]
  },
  {
   "cell_type": "code",
   "execution_count": 50,
   "id": "5c292ab7",
   "metadata": {},
   "outputs": [],
   "source": [
    "#change string inputs to numbers\n",
    "#specificaly male/female and cabinets\n",
    "for x in df:\n",
    "    if(x[1]=='male'):\n",
    "        x[1]=1\n",
    "    elif(x[1]=='female'):\n",
    "        x[1]=2\n",
    "    if(x[6]=='S'):\n",
    "        x[6]=1\n",
    "    elif(x[6]=='C'):\n",
    "        x[6]=2\n",
    "    elif(x[6]=='Q'):\n",
    "        x[6]=3\n",
    "df = df.astype('float64')"
   ]
  },
  {
   "cell_type": "code",
   "execution_count": 46,
   "id": "2537e7c3",
   "metadata": {},
   "outputs": [
    {
     "data": {
      "text/plain": [
       "array([ 3.,  2., 47.,  1.,  0.,  7.,  1.])"
      ]
     },
     "execution_count": 46,
     "metadata": {},
     "output_type": "execute_result"
    }
   ],
   "source": [
    "df[1]"
   ]
  },
  {
   "cell_type": "code",
   "execution_count": 18,
   "id": "ec0d4a4a",
   "metadata": {},
   "outputs": [],
   "source": [
    "#feed forward values and get the output value for each test case\n",
    "#output is a 891x1 vector that has the values that are squishified to be between 0,1 by sigmoid\n",
    "def feedforward(df,theta):\n",
    "    output = np.matmul(df,theta1)\n",
    "    predictions = np.zeros(df.shape[0])\n",
    "    for i in range(len(output)):\n",
    "        if(output[i]>=0):\n",
    "            predictions[i]=1\n",
    "        if(output[i]<0):\n",
    "            predictions[i]=-1\n",
    "    return predictions"
   ]
  },
  {
   "cell_type": "code",
   "execution_count": 19,
   "id": "3c3f45df",
   "metadata": {},
   "outputs": [],
   "source": [
    "def update_theta(df,theta,correct):\n",
    "    predictions = feedforward(df,theta)\n",
    "    for i in range(len(df)):\n",
    "        if(predictions[i]!=correct[i]):\n",
    "            theta = theta + np.multiply(df[i],correct[i])\n",
    "    return theta"
   ]
  },
  {
   "cell_type": "code",
   "execution_count": 51,
   "id": "b5b007d5",
   "metadata": {},
   "outputs": [],
   "source": [
    "theta1 = np.zeros(df.shape[1])\n",
    "maxnumcorrect = 0\n",
    "for x in range(10000):\n",
    "    count = 0\n",
    "    theta1 = update_theta(df,theta1,correct)\n",
    "    predictions = feedforward(df,theta1)\n",
    "    for x in range(df.shape[0]):\n",
    "        if(predictions[x]==correct[x]):\n",
    "            count+=1\n",
    "    if(count>maxnumcorrect):\n",
    "        maxnumcorrect = count"
   ]
  },
  {
   "cell_type": "code",
   "execution_count": 52,
   "id": "4939a396",
   "metadata": {},
   "outputs": [
    {
     "name": "stdout",
     "output_type": "stream",
     "text": [
      "[-114588.          249887.           -3036.29        -67141.\n",
      "  -23595.            2849.31430001  -22467.        ]\n",
      "708\n"
     ]
    }
   ],
   "source": [
    "print(theta1)\n",
    "predictions = feedforward(df,theta1)\n",
    "print(maxnumcorrect)\n"
   ]
  },
  {
   "cell_type": "code",
   "execution_count": 54,
   "id": "f3aa7d42",
   "metadata": {},
   "outputs": [],
   "source": [
    "testdata = pd.read_csv('test.csv')\n",
    "testdata = testdata.fillna(0)\n",
    "testdata = testdata.to_numpy()"
   ]
  },
  {
   "cell_type": "code",
   "execution_count": 55,
   "id": "3f938da7",
   "metadata": {},
   "outputs": [],
   "source": [
    "testdata = np.delete(testdata,0,1)\n",
    "testdata = np.delete(testdata,1,1)\n",
    "testdata = np.delete(testdata,5,1)\n",
    "testdata = np.delete(testdata,6,1)"
   ]
  },
  {
   "cell_type": "code",
   "execution_count": 57,
   "id": "0ddc81a8",
   "metadata": {},
   "outputs": [],
   "source": [
    "#change string inputs to numbers\n",
    "#specificaly male/female and cabinets\n",
    "for x in testdata:\n",
    "    if(x[1]=='male'):\n",
    "        x[1]=1\n",
    "    elif(x[1]=='female'):\n",
    "        x[1]=2\n",
    "    if(x[6]=='S'):\n",
    "        x[6]=1\n",
    "    elif(x[6]=='C'):\n",
    "        x[6]=2\n",
    "    elif(x[6]=='Q'):\n",
    "        x[6]=3\n",
    "testdata = testdata.astype('float64')"
   ]
  },
  {
   "cell_type": "code",
   "execution_count": 88,
   "id": "40e0d6ac",
   "metadata": {},
   "outputs": [
    {
     "name": "stdout",
     "output_type": "stream",
     "text": [
      "0\n"
     ]
    }
   ],
   "source": [
    "predictions = feedforward(testdata,theta1)\n",
    "predictions = predictions.astype(\"int32\")\n",
    "output = np.zeros((testdata.shape[0]+1,2))\n",
    "output = output.astype(\"str\")\n",
    "output[0,0] = \"PassengerId\"\n",
    "output[0,1] = \"Survived\"\n",
    "count = 0\n",
    "for i in range(len(predictions)):\n",
    "    if(predictions[i]==-1):\n",
    "        predictions[i]=0\n",
    "    output[i+1,0] = i+892\n",
    "    output[i+1,1] = predictions[i]\n",
    "    count+=1\n",
    "print(count)\n",
    "    \n",
    "pd.DataFrame(output).to_csv('output.csv',header=None,index=None)"
   ]
  }
 ],
 "metadata": {
  "kernelspec": {
   "display_name": "Python 3 (ipykernel)",
   "language": "python",
   "name": "python3"
  },
  "language_info": {
   "codemirror_mode": {
    "name": "ipython",
    "version": 3
   },
   "file_extension": ".py",
   "mimetype": "text/x-python",
   "name": "python",
   "nbconvert_exporter": "python",
   "pygments_lexer": "ipython3",
   "version": "3.9.12"
  }
 },
 "nbformat": 4,
 "nbformat_minor": 5
}
